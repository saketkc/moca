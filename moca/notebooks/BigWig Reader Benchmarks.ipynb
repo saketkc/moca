{
 "cells": [
  {
   "cell_type": "code",
   "execution_count": null,
   "metadata": {
    "collapsed": false
   },
   "outputs": [],
   "source": [
    "from __future__ import division\n",
    "from bw import BigWig\n",
    "from bx.bbi.bigwig_file import BigWigFile\n",
    "import pyBigWig\n",
    "import numpy as np\n",
    "import csv\n",
    "np.random.seed(100)\n",
    "__bw__ = '/media/data1/GENOMES/genomes/hg19/gerp/All_hg19_RS.bw'\n",
    "__chr_sizes__ = '/media/data1/GENOMES/genomes/hg19/fasta/hg19.sizes'\n",
    "\n",
    "reader = csv.reader(open(__chr_sizes__, \"rb\"), delimiter='\\t')\n",
    "chr_sizes = {k: int(v) for k, v in reader}\n",
    "\n",
    "bx_bw = BigWigFile(open(__bw__))\n",
    "bw_bw = BigWig(__bw__)\n",
    "py_bw = pyBigWig.open(__bw__)\n",
    "chroms = py_bw.chroms()"
   ]
  },
  {
   "cell_type": "code",
   "execution_count": null,
   "metadata": {
    "collapsed": false
   },
   "outputs": [],
   "source": [
    "%%timeit\n",
    "for chrom in chroms:\n",
    "    chromsize = chr_sizes[chrom]\n",
    "    bx = bx_bw.get_as_array(chrom, 0, int(chromsize/100))    "
   ]
  },
  {
   "cell_type": "code",
   "execution_count": null,
   "metadata": {
    "collapsed": false
   },
   "outputs": [],
   "source": [
    "%%timeit\n",
    "for chrom in chroms:\n",
    "    chromsize = chr_sizes[chrom]\n",
    "    bw = bw_bw.values(chrom, 0, int(chromsize/100))"
   ]
  },
  {
   "cell_type": "code",
   "execution_count": null,
   "metadata": {
    "collapsed": false
   },
   "outputs": [],
   "source": [
    "%%timeit\n",
    "for chrom in chroms:\n",
    "    chromsize = chr_sizes[chrom]\n",
    "    py = py_bw.values(chrom, 0, int(chromsize/100))"
   ]
  },
  {
   "cell_type": "code",
   "execution_count": null,
   "metadata": {
    "collapsed": true
   },
   "outputs": [],
   "source": []
  }
 ],
 "metadata": {
  "kernelspec": {
   "display_name": "Python 2",
   "language": "python",
   "name": "python2"
  },
  "language_info": {
   "codemirror_mode": {
    "name": "ipython",
    "version": 2
   },
   "file_extension": ".py",
   "mimetype": "text/x-python",
   "name": "python",
   "nbconvert_exporter": "python",
   "pygments_lexer": "ipython2",
   "version": "2.7.11"
  }
 },
 "nbformat": 4,
 "nbformat_minor": 0
}
